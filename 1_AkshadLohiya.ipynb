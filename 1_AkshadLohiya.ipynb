{
 "cells": [
  {
   "cell_type": "code",
   "execution_count": null,
   "id": "eff64615-fa98-45b4-89fd-e66d449eb320",
   "metadata": {},
   "outputs": [],
   "source": [
    "#Model used in Multiclass Logistic Regression \n",
    "#Reason:\n",
    "#1) when I tried bert for deep-learning it was taking input not all at once but in small amount making training of the model time consuming\n",
    "#2) Random-forest technique was less accuracy and pression so i do not use it"
   ]
  },
  {
   "cell_type": "code",
   "execution_count": 43,
   "id": "e0db907d-0abd-4c1a-a971-99d2e6f60999",
   "metadata": {},
   "outputs": [],
   "source": [
    "#adding all necessary library for nlp\n",
    "import re\n",
    "import csv\n",
    "import pandas as pd\n",
    "import numpy as np\n",
    "import matplotlib.pyplot as plt\n",
    "from sklearn.linear_model import LogisticRegression\n",
    "from sklearn.datasets import load_iris\n",
    "from sklearn.model_selection import train_test_split\n",
    "from sklearn.metrics import accuracy_score, classification_report, confusion_matrix\n",
    "from sklearn.feature_extraction.text import TfidfVectorizer\n",
    "import torch"
   ]
  },
  {
   "cell_type": "code",
   "execution_count": 45,
   "id": "25b797ee-2e7b-4920-9b54-39471c9492ec",
   "metadata": {},
   "outputs": [],
   "source": [
    "#declaring all list\n",
    "a = []\n",
    "list1 = []\n",
    "list2 = []\n",
    "list3 = []\n",
    "list4 = []\n",
    "#all stopwords list \n",
    "b = [\"0o\", \"0s\", \"3a\", \"3b\", \"3d\", \"6b\", \"6o\", \"a\", \"a1\", \"a2\", \"a3\", \"a4\", \"ab\", \"able\", \"about\", \"above\", \"abst\", \"ac\", \"accordance\", \"according\", \"accordingly\", \"across\", \"act\", \"actually\", \"ad\", \"added\", \"adj\", \"ae\", \"af\", \"affected\", \"affecting\", \"affects\", \"after\", \"afterwards\", \"ag\", \"again\", \"against\", \"ah\", \"ain\", \"ain't\", \"aj\", \"al\", \"all\", \"allow\", \"allows\", \"almost\", \"alone\", \"along\", \"already\", \"also\", \"although\", \"always\", \"am\", \"among\", \"amongst\", \"amoungst\", \"amount\", \"an\", \"and\", \"announce\", \"another\", \"any\", \"anybody\", \"anyhow\", \"anymore\", \"anyone\", \"anything\", \"anyway\", \"anyways\", \"anywhere\", \"ao\", \"ap\", \"apart\", \"apparently\", \"appear\", \"appreciate\", \"appropriate\", \"approximately\", \"ar\", \"are\", \"aren\", \"arent\", \"aren't\", \"arise\", \"around\", \"as\", \"a's\", \"aside\", \"ask\", \"asking\", \"associated\", \"at\", \"au\", \"auth\", \"av\", \"available\", \"aw\", \"away\", \"awfully\", \"ax\", \"ay\", \"az\", \"b\", \"b1\", \"b2\", \"b3\", \"ba\", \"back\", \"bc\", \"bd\", \"be\", \"became\", \"because\", \"become\", \"becomes\", \"becoming\", \"been\", \"before\", \"beforehand\", \"begin\", \"beginning\", \"beginnings\", \"begins\", \"behind\", \"being\", \"believe\", \"below\", \"beside\", \"besides\", \"best\", \"better\", \"between\", \"beyond\", \"bi\", \"bill\", \"biol\", \"bj\", \"bk\", \"bl\", \"bn\", \"both\", \"bottom\", \"bp\", \"br\", \"brief\", \"briefly\", \"bs\", \"bt\", \"bu\", \"but\", \"bx\", \"by\", \"c\", \"c1\", \"c2\", \"c3\", \"ca\", \"call\", \"came\", \"can\", \"cannot\", \"cant\", \"can't\", \"cause\", \"causes\", \"cc\", \"cd\", \"ce\", \"certain\", \"certainly\", \"cf\", \"cg\", \"ch\", \"changes\", \"ci\", \"cit\", \"cj\", \"cl\", \"clearly\", \"cm\", \"c'mon\", \"cn\", \"co\", \"com\", \"come\", \"comes\", \"con\", \"concerning\", \"consequently\", \"consider\", \"considering\", \"contain\", \"containing\", \"contains\", \"corresponding\", \"could\", \"couldn\", \"couldnt\", \"couldn't\", \"course\", \"cp\", \"cq\", \"cr\", \"cry\", \"cs\", \"c's\", \"ct\", \"cu\", \"currently\", \"cv\", \"cx\", \"cy\", \"cz\", \"d\", \"d2\", \"da\", \"date\", \"dc\", \"dd\", \"de\", \"definitely\", \"describe\", \"described\", \"despite\", \"detail\", \"df\", \"di\", \"did\", \"didn\", \"didn't\", \"different\", \"dj\", \"dk\", \"dl\", \"do\", \"does\", \"doesn\", \"doesn't\", \"doing\", \"don\", \"done\", \"don't\", \"down\", \"downwards\", \"dp\", \"dr\", \"ds\", \"dt\", \"du\", \"due\", \"during\", \"dx\", \"dy\", \"e\", \"e2\", \"e3\", \"ea\", \"each\", \"ec\", \"ed\", \"edu\", \"ee\", \"ef\", \"effect\", \"eg\", \"ei\", \"eight\", \"eighty\", \"either\", \"ej\", \"el\", \"eleven\", \"else\", \"elsewhere\", \"em\", \"empty\", \"en\", \"end\", \"ending\", \"enough\", \"entirely\", \"eo\", \"ep\", \"eq\", \"er\", \"es\", \"especially\", \"est\", \"et\", \"et-al\", \"etc\", \"eu\", \"ev\", \"even\", \"ever\", \"every\", \"everybody\", \"everyone\", \"everything\", \"everywhere\", \"ex\", \"exactly\", \"example\", \"except\", \"ey\", \"f\", \"f2\", \"fa\", \"far\", \"fc\", \"few\", \"ff\", \"fi\", \"fifteen\", \"fifth\", \"fify\", \"fill\", \"find\", \"fire\", \"first\", \"five\", \"fix\", \"fj\", \"fl\", \"fn\", \"fo\", \"followed\", \"following\", \"follows\", \"for\", \"former\", \"formerly\", \"forth\", \"forty\", \"found\", \"four\", \"fr\", \"from\", \"front\", \"fs\", \"ft\", \"fu\", \"full\", \"further\", \"furthermore\", \"fy\", \"g\", \"ga\", \"gave\", \"ge\", \"get\", \"gets\", \"getting\", \"gi\", \"give\", \"given\", \"gives\", \"giving\", \"gj\", \"gl\", \"go\", \"goes\", \"going\", \"gone\", \"got\", \"gotten\", \"gr\", \"greetings\", \"gs\", \"gy\", \"h\", \"h2\", \"h3\", \"had\", \"hadn\", \"hadn't\", \"happens\", \"hardly\", \"has\", \"hasn\", \"hasnt\", \"hasn't\", \"have\", \"haven\", \"haven't\", \"having\", \"he\", \"hed\", \"he'd\", \"he'll\", \"hello\", \"help\", \"hence\", \"her\", \"here\", \"hereafter\", \"hereby\", \"herein\", \"heres\", \"here's\", \"hereupon\", \"hers\", \"herself\", \"hes\", \"he's\", \"hh\", \"hi\", \"hid\", \"him\", \"himself\", \"his\", \"hither\", \"hj\", \"ho\", \"home\", \"hopefully\", \"how\", \"howbeit\", \"however\", \"how's\", \"hr\", \"hs\", \"http\", \"hu\", \"hundred\", \"hy\", \"i\", \"i2\", \"i3\", \"i4\", \"i6\", \"i7\", \"i8\", \"ia\", \"ib\", \"ibid\", \"ic\", \"id\", \"i'd\", \"ie\", \"if\", \"ig\", \"ignored\", \"ih\", \"ii\", \"ij\", \"il\", \"i'll\", \"im\", \"i'm\", \"immediate\", \"immediately\", \"importance\", \"important\", \"in\", \"inasmuch\", \"inc\", \"indeed\", \"index\", \"indicate\", \"indicated\", \"indicates\", \"information\", \"inner\", \"insofar\", \"instead\", \"interest\", \"into\", \"invention\", \"inward\", \"io\", \"ip\", \"iq\", \"ir\", \"is\", \"isn\", \"isn't\", \"it\", \"itd\", \"it'd\", \"it'll\", \"its\", \"it's\", \"itself\", \"iv\", \"i've\", \"ix\", \"iy\", \"iz\", \"j\", \"jj\", \"jr\", \"js\", \"jt\", \"ju\", \"just\", \"k\", \"ke\", \"keep\", \"keeps\", \"kept\", \"kg\", \"kj\", \"km\", \"know\", \"known\", \"knows\", \"ko\", \"l\", \"l2\", \"la\", \"largely\", \"last\", \"lately\", \"later\", \"latter\", \"latterly\", \"lb\", \"lc\", \"le\", \"least\", \"les\", \"less\", \"lest\", \"let\", \"lets\", \"let's\", \"lf\", \"like\", \"liked\", \"likely\", \"line\", \"little\", \"lj\", \"ll\", \"ll\", \"ln\", \"lo\", \"look\", \"looking\", \"looks\", \"los\", \"lr\", \"ls\", \"lt\", \"ltd\", \"m\", \"m2\", \"ma\", \"made\", \"mainly\", \"make\", \"makes\", \"many\", \"may\", \"maybe\", \"me\", \"mean\", \"means\", \"meantime\", \"meanwhile\", \"merely\", \"mg\", \"might\", \"mightn\", \"mightn't\", \"mill\", \"million\", \"mine\", \"miss\", \"ml\", \"mn\", \"mo\", \"more\", \"moreover\", \"most\", \"mostly\", \"move\", \"mr\", \"mrs\", \"ms\", \"mt\", \"mu\", \"much\", \"mug\", \"must\", \"mustn\", \"mustn't\", \"my\", \"myself\", \"n\", \"n2\", \"na\", \"name\", \"namely\", \"nay\", \"nc\", \"nd\", \"ne\", \"near\", \"nearly\", \"necessarily\", \"necessary\", \"need\", \"needn\", \"needn't\", \"needs\", \"neither\", \"never\", \"nevertheless\", \"new\", \"next\", \"ng\", \"ni\", \"nine\", \"ninety\", \"nj\", \"nl\", \"nn\", \"no\", \"nobody\", \"non\", \"none\", \"nonetheless\", \"noone\", \"nor\", \"normally\", \"nos\", \"not\", \"noted\", \"nothing\", \"novel\", \"now\", \"nowhere\", \"nr\", \"ns\", \"nt\", \"ny\", \"o\", \"oa\", \"ob\", \"obtain\", \"obtained\", \"obviously\", \"oc\", \"od\", \"of\", \"off\", \"often\", \"og\", \"oh\", \"oi\", \"oj\", \"ok\", \"okay\", \"ol\", \"old\", \"om\", \"omitted\", \"on\", \"once\", \"one\", \"ones\", \"only\", \"onto\", \"oo\", \"op\", \"oq\", \"or\", \"ord\", \"os\", \"ot\", \"other\", \"others\", \"otherwise\", \"ou\", \"ought\", \"our\", \"ours\", \"ourselves\", \"out\", \"outside\", \"over\", \"overall\", \"ow\", \"owing\", \"own\", \"ox\", \"oz\", \"p\", \"p1\", \"p2\", \"p3\", \"page\", \"pagecount\", \"pages\", \"par\", \"part\", \"particular\", \"particularly\", \"pas\", \"past\", \"pc\", \"pd\", \"pe\", \"per\", \"perhaps\", \"pf\", \"ph\", \"pi\", \"pj\", \"pk\", \"pl\", \"placed\", \"please\", \"plus\", \"pm\", \"pn\", \"po\", \"poorly\", \"possible\", \"possibly\", \"potentially\", \"pp\", \"pq\", \"pr\", \"predominantly\", \"present\", \"presumably\", \"previously\", \"primarily\", \"probably\", \"promptly\", \"proud\", \"provides\", \"ps\", \"pt\", \"pu\", \"put\", \"py\", \"q\", \"qj\", \"qu\", \"que\", \"quickly\", \"quite\", \"qv\", \"r\", \"r2\", \"ra\", \"ran\", \"rather\", \"rc\", \"rd\", \"re\", \"readily\", \"really\", \"reasonably\", \"recent\", \"recently\", \"ref\", \"refs\", \"regarding\", \"regardless\", \"regards\", \"related\", \"relatively\", \"research\", \"research-articl\", \"respectively\", \"resulted\", \"resulting\", \"results\", \"rf\", \"rh\", \"ri\", \"right\", \"rj\", \"rl\", \"rm\", \"rn\", \"ro\", \"rq\", \"rr\", \"rs\", \"rt\", \"ru\", \"run\", \"rv\", \"ry\", \"s\", \"s2\", \"sa\", \"said\", \"same\", \"saw\", \"say\", \"saying\", \"says\", \"sc\", \"sd\", \"se\", \"sec\", \"second\", \"secondly\", \"section\", \"see\", \"seeing\", \"seem\", \"seemed\", \"seeming\", \"seems\", \"seen\", \"self\", \"selves\", \"sensible\", \"sent\", \"serious\", \"seriously\", \"seven\", \"several\", \"sf\", \"shall\", \"shan\", \"shan't\", \"she\", \"shed\", \"she'd\", \"she'll\", \"shes\", \"she's\", \"should\", \"shouldn\", \"shouldn't\", \"should've\", \"show\", \"showed\", \"shown\", \"showns\", \"shows\", \"si\", \"side\", \"significant\", \"significantly\", \"similar\", \"similarly\", \"since\", \"sincere\", \"six\", \"sixty\", \"sj\", \"sl\", \"slightly\", \"sm\", \"sn\", \"so\", \"some\", \"somebody\", \"somehow\", \"someone\", \"somethan\", \"something\", \"sometime\", \"sometimes\", \"somewhat\", \"somewhere\", \"soon\", \"sorry\", \"sp\", \"specifically\", \"specified\", \"specify\", \"specifying\", \"sq\", \"sr\", \"ss\", \"st\", \"still\", \"stop\", \"strongly\", \"sub\", \"substantially\", \"successfully\", \"such\", \"sufficiently\", \"suggest\", \"sup\", \"sure\", \"sy\", \"system\", \"sz\", \"t\", \"t1\", \"t2\", \"t3\", \"take\", \"taken\", \"taking\", \"tb\", \"tc\", \"td\", \"te\", \"tell\", \"ten\", \"tends\", \"tf\", \"th\", \"than\", \"thank\", \"thanks\", \"thanx\", \"that\", \"that'll\", \"thats\", \"that's\", \"that've\", \"the\", \"their\", \"theirs\", \"them\", \"themselves\", \"then\", \"thence\", \"there\", \"thereafter\", \"thereby\", \"thered\", \"therefore\", \"therein\", \"there'll\", \"thereof\", \"therere\", \"theres\", \"there's\", \"thereto\", \"thereupon\", \"there've\", \"these\", \"they\", \"theyd\", \"they'd\", \"they'll\", \"theyre\", \"they're\", \"they've\", \"thickv\", \"thin\", \"think\", \"third\", \"this\", \"thorough\", \"thoroughly\", \"those\", \"thou\", \"though\", \"thoughh\", \"thousand\", \"three\", \"throug\", \"through\", \"throughout\", \"thru\", \"thus\", \"ti\", \"til\", \"tip\", \"tj\", \"tl\", \"tm\", \"tn\", \"to\", \"together\", \"too\", \"took\", \"top\", \"toward\", \"towards\", \"tp\", \"tq\", \"tr\", \"tried\", \"tries\", \"truly\", \"try\", \"trying\", \"ts\", \"t's\", \"tt\", \"tv\", \"twelve\", \"twenty\", \"twice\", \"two\", \"tx\", \"u\", \"u201d\", \"ue\", \"ui\", \"uj\", \"uk\", \"um\", \"un\", \"under\", \"unfortunately\", \"unless\", \"unlike\", \"unlikely\", \"until\", \"unto\", \"uo\", \"up\", \"upon\", \"ups\", \"ur\", \"us\", \"use\", \"used\", \"useful\", \"usefully\", \"usefulness\", \"uses\", \"using\", \"usually\", \"ut\", \"v\", \"va\", \"value\", \"various\", \"vd\", \"ve\", \"ve\", \"very\", \"via\", \"viz\", \"vj\", \"vo\", \"vol\", \"vols\", \"volumtype\", \"vq\", \"vs\", \"vt\", \"vu\", \"w\", \"wa\", \"want\", \"wants\", \"was\", \"wasn\", \"wasnt\", \"wasn't\", \"way\", \"we\", \"wed\", \"we'd\", \"welcome\", \"well\", \"we'll\", \"well-b\", \"went\", \"were\", \"we're\", \"weren\", \"werent\", \"weren't\", \"we've\", \"what\", \"whatever\", \"what'll\", \"whats\", \"what's\", \"when\", \"whence\", \"whenever\", \"when's\", \"where\", \"whereafter\", \"whereas\", \"whereby\", \"wherein\", \"wheres\", \"where's\", \"whereupon\", \"wherever\", \"whether\", \"which\", \"while\", \"whim\", \"whither\", \"who\", \"whod\", \"whoever\", \"whole\", \"who'll\", \"whom\", \"whomever\", \"whos\", \"who's\", \"whose\", \"why\", \"why's\", \"wi\", \"widely\", \"will\", \"willing\", \"wish\", \"with\", \"within\", \"without\", \"wo\", \"won\", \"wonder\", \"wont\", \"won't\", \"words\", \"world\", \"would\", \"wouldn\", \"wouldnt\", \"wouldn't\", \"www\", \"x\", \"x1\", \"x2\", \"x3\", \"xf\", \"xi\", \"xj\", \"xk\", \"xl\", \"xn\", \"xo\", \"xs\", \"xt\", \"xv\", \"xx\", \"y\", \"y2\", \"yes\", \"yet\", \"yj\", \"yl\", \"you\", \"youd\", \"you'd\", \"you'll\", \"your\", \"youre\", \"you're\", \"yours\", \"yourself\", \"yourselves\", \"you've\", \"yr\", \"ys\", \"yt\", \"z\", \"zero\", \"zi\", \"zz\"]\n",
    "#oppening the csv file\n",
    "with open('complaints.csv', newline='') as csvfile:\n",
    "    data = csv.reader(csvfile)\n",
    "    for row in data:\n",
    "        a.append(row)"
   ]
  },
  {
   "cell_type": "code",
   "execution_count": 47,
   "id": "bb72b4d9-5dd5-4620-aed1-a1b9ee151a94",
   "metadata": {},
   "outputs": [],
   "source": [
    "#function for training the model\n",
    "def training(df):\n",
    "    #load the function TfidfVectorizer in tfidf\n",
    "    tfidf = TfidfVectorizer(max_features=1000)\n",
    "    #tranforming dataframe column list into vectorize number form\n",
    "    X = tfidf.fit_transform(df['list']).toarray()\n",
    "    #try to open the tensor file and if open concat with current dataset\n",
    "    try:\n",
    "        loaded_tfidf_tensor = torch.load('tfidf_tensor.pt', weights_only=True)\n",
    "        X = torch.cat((tensor_features, tfidf_tensor), dim=1)\n",
    "        print(end = '\\n')\n",
    "    except:\n",
    "        print(end = '\\n')\n",
    "    #storing data frame column product in y\n",
    "    y = df['product']\n",
    "    #train_test_split  for generating valid number for multi class logistic regression\n",
    "    X_train, X_test, y_train, y_test = train_test_split(X, y, test_size=0.2, random_state=42)\n",
    "    #storing logisticregression function in logreg\n",
    "    logreg = LogisticRegression(max_iter = 100000)\n",
    "    logreg.fit(X_train, y_train)\n",
    "    # trained model y_pred_logreg can for calculation of accurracy and all other stuff\n",
    "    y_pred_logreg = logreg.predict(X_test)\n",
    "    # save the tesnsor model in tensor file\n",
    "    tfidf_tensor = torch.tensor(X)\n",
    "    torch.save(tfidf_tensor, 'tfidf_tensor.pt')\n",
    "    return y_pred_logreg, y_test, logreg, tfidf"
   ]
  },
  {
   "cell_type": "code",
   "execution_count": 49,
   "id": "e3b4ef2f-1652-4c85-9102-9425028bb253",
   "metadata": {
    "scrolled": true
   },
   "outputs": [],
   "source": [
    "#clearing of non-necessary characters from the column narrative\n",
    "def clean(list):\n",
    "    #using regex removing special character and number\n",
    "    list = re.sub(r'[\\d!@#\\$%\\^\\(\\)-_\\+=\\[\\]\\{\\}\\\\\\|;\\:/\\?\\.,><`~]', '', list)\n",
    "    #removing all stopwords\n",
    "    words = list.split(' ')\n",
    "    words = [x for x in words if x not in b]\n",
    "    list4 = ' '.join(words)\n",
    "    return list4"
   ]
  },
  {
   "cell_type": "code",
   "execution_count": 51,
   "id": "6e23bc42-979e-4667-9b97-241f8cdd3f79",
   "metadata": {},
   "outputs": [],
   "source": [
    "#routing system\n",
    "def routing_auto(sen):\n",
    "    #clean the sentence first\n",
    "    complaint = clean(sen)\n",
    "    #make it in vectorize form\n",
    "    vector = tfidf.transform([complaint])\n",
    "    #finally predicting in which class does it belong\n",
    "    obv_haki = model.predict(vector)\n",
    "    return obv_haki"
   ]
  },
  {
   "cell_type": "code",
   "execution_count": 53,
   "id": "d6bace14-c80a-4990-90f0-9239dd373601",
   "metadata": {},
   "outputs": [],
   "source": [
    "#feedback taking analysis function\n",
    "def feedback(sen, pred, actual):\n",
    "    #declaring to take df from global prepective\n",
    "    global df\n",
    "    #checking if pred is equal to actual if yes then everything remain same else train the model again\n",
    "    if pred == actual:\n",
    "        print(\"You have misunderstood the predicted and actual department are same\", end = '\\n')\n",
    "        return training(df)\n",
    "    else:\n",
    "        print(\"Sorry for inconvenience. We Will look forward not to make mistake in future\", end = '\\n')\n",
    "        complaint = clean(sen)\n",
    "        data = {'product': actual, 'narrative': sen, 'list': complaint}\n",
    "        row = pd.DataFrame([data])\n",
    "        df = pd.concat([df, row], ignore_index=True)\n",
    "        return training(df)"
   ]
  },
  {
   "cell_type": "code",
   "execution_count": 55,
   "id": "e5cd9503-027e-479b-b400-a70112d04b91",
   "metadata": {},
   "outputs": [
    {
     "name": "stdout",
     "output_type": "stream",
     "text": [
      "<class 'pandas.core.frame.DataFrame'>\n",
      "RangeIndex: 162421 entries, 0 to 162420\n",
      "Data columns (total 2 columns):\n",
      " #   Column     Non-Null Count   Dtype \n",
      "---  ------     --------------   ----- \n",
      " 0   product    162421 non-null  object\n",
      " 1   narrative  162421 non-null  object\n",
      "dtypes: object(2)\n",
      "memory usage: 2.5+ MB\n",
      "None\n",
      "(162421, 2)\n",
      "            product                                          narrative\n",
      "0       credit_card  purchase order day shipping amount receive pro...\n",
      "1       credit_card  forwarded message date tue subject please inve...\n",
      "2    retail_banking  forwarded message cc sent friday pdt subject f...\n",
      "3  credit_reporting  payment history missing credit report speciali...\n",
      "4  credit_reporting  payment history missing credit report made mis...\n"
     ]
    }
   ],
   "source": [
    "#sperating all rows and make list of each by spliting them with ','\n",
    "for i in range(len(a)):\n",
    "    for lists in a[i]:\n",
    "        list1.append(lists.split(','))\n",
    "j = 1\n",
    "#storing the narrative column in dataset in list2\n",
    "#storing the product column in dataset in list3\n",
    "for lists in list1:\n",
    "    for words in lists:\n",
    "        if j % 3 == 0:\n",
    "            list2.append(words)\n",
    "        if j % 3 == 2:\n",
    "            list3.append(words)\n",
    "        j += 1\n",
    "#since list2 and list3 will all contain narrative and product as first element of list hence removing them\n",
    "list2.pop(0)\n",
    "list3.pop(0)\n",
    "#creating a data frame of the list for next process\n",
    "df = pd.DataFrame({\n",
    "    'product': list3,\n",
    "    'narrative': list2\n",
    "})\n",
    "print(df.info(), end = '\\n')\n",
    "print(df.shape, end = '\\n')\n",
    "print(df.head(), end = '\\n')"
   ]
  },
  {
   "cell_type": "code",
   "execution_count": 57,
   "id": "53aa721c-8f7c-4652-97d9-6cc03f2d95bd",
   "metadata": {},
   "outputs": [
    {
     "name": "stdout",
     "output_type": "stream",
     "text": [
      "<class 'pandas.core.frame.DataFrame'>\n",
      "RangeIndex: 162421 entries, 0 to 162420\n",
      "Data columns (total 3 columns):\n",
      " #   Column     Non-Null Count   Dtype \n",
      "---  ------     --------------   ----- \n",
      " 0   product    162421 non-null  object\n",
      " 1   narrative  162421 non-null  object\n",
      " 2   list       162421 non-null  object\n",
      "dtypes: object(3)\n",
      "memory usage: 3.7+ MB\n",
      "None\n",
      "(162421, 3)\n",
      "            product                                          narrative  \\\n",
      "0       credit_card  purchase order day shipping amount receive pro...   \n",
      "1       credit_card  forwarded message date tue subject please inve...   \n",
      "2    retail_banking  forwarded message cc sent friday pdt subject f...   \n",
      "3  credit_reporting  payment history missing credit report speciali...   \n",
      "4  credit_reporting  payment history missing credit report made mis...   \n",
      "\n",
      "                                                list  \n",
      "0  purchase order day shipping receive product we...  \n",
      "1  forwarded message tue subject investigate come...  \n",
      "2  forwarded message friday pdt subject final leg...  \n",
      "3  payment history missing credit report speciali...  \n",
      "4  payment history missing credit report mistake ...  \n"
     ]
    }
   ],
   "source": [
    "#creating new column named list in df(dataframe) \n",
    "df['list'] = df['narrative'].apply(clean)\n",
    "print(df.info(), end = '\\n')\n",
    "print(df.shape, end = '\\n')\n",
    "print(df.head(), end = '\\n')"
   ]
  },
  {
   "cell_type": "code",
   "execution_count": 59,
   "id": "f0e77589-c294-4fed-8ec5-520ca9c3c06f",
   "metadata": {
    "scrolled": true
   },
   "outputs": [
    {
     "name": "stdout",
     "output_type": "stream",
     "text": [
      "\n"
     ]
    }
   ],
   "source": [
    "#calling the function training to get the trained model, pred and test for getting accuracy and tfidf for vector conversion\n",
    "pred, test, model, tfidf = training(df)"
   ]
  },
  {
   "cell_type": "code",
   "execution_count": 61,
   "id": "601199d1-a217-46b7-a137-f684ad375ca4",
   "metadata": {},
   "outputs": [
    {
     "name": "stdin",
     "output_type": "stream",
     "text": [
      "Enter Your complaint: purchase order day shipping amount receive product week sent followup email exact verbiage paid two day shipping received order company responded im sorry inform due unusually high order volume order shipped several week stock since early due high demand although continuing take order guaranteeing receive order place due time mask order exact shipping date right however guarantee ship soon soon delivers product u getting small shipment shipping first come first served basis appreciate patience fulfill order quickly recommend keeping order lose place line cancel distributor stock moment prefer cancel please note ask via email cancel accordance cancellation policy agreed checkout electronic inventory online requested order canceled refund issued canceled order sent verification order canceled refunded item particulate respirator refunded subtotal shipping tax total usd visa ending refund called disputed amount stated nothing needed submitted address issue recharged item removing called back dispute amount transaction rebillmerchandiserobert ca purchased thu posted wed purchased appears statement transaction rebill ca u followed see status case submitted documentation showing canceled order supposed submit refund called back speak manager case stated dispute ruled favor charge removed card capital one removed purchase bill purchase adjustmentmerchandiserobert j posted fri purchased appears statement purchase adjustment capital one recharges amount transaction rebillmerchandiserobert j purchased thu posted mon purchased appears statement transaction rebill called capital one requested recharge stated visa ruled case pretended remove purchase knew anything case manager ruling favor\n"
     ]
    },
    {
     "name": "stdout",
     "output_type": "stream",
     "text": [
      "\n",
      "The Comaplaint belong to  ['credit_card']\n"
     ]
    },
    {
     "name": "stdin",
     "output_type": "stream",
     "text": [
      "Please Enter feedback among the five option: credit reporting, debt collection,  mortgages and loans, credit cards and retail banking credit cards\n"
     ]
    },
    {
     "name": "stdout",
     "output_type": "stream",
     "text": [
      "\n",
      "Sorry for inconvenience. We Will look forward not to make mistake in future\n",
      "\n"
     ]
    }
   ],
   "source": [
    "sen = input(\"Enter Your complaint:\")\n",
    "print(end = '\\n')\n",
    "#putting the input of sen in routing to see what the model will predict\n",
    "obv_haki = routing_auto(sen)\n",
    "print(\"The Comaplaint belong to \", obv_haki, end = '\\n')\n",
    "actual = input(\"Please Enter feedback among the five option: credit reporting, debt collection,  mortgages and loans, credit cards and retail banking\")\n",
    "print(end = '\\n')\n",
    "option = ['credit_reporting', 'debt_collection',  'mortgages_and_loans', 'credit_cards', 'retail_banking']\n",
    "actual = '_'.join(actual.split())\n",
    "#cheking if the input is from option for not\n",
    "while True:\n",
    "    if actual not in option:\n",
    "        actual = input(\"Oops wrong input please try from this options: credit reporting, debt collection,  mortgages and loans, credit cards and retail banking\")\n",
    "        print(end = '\\n')\n",
    "        continue\n",
    "    else:\n",
    "        break\n",
    "#calling the feedback function\n",
    "pred, test, model, tfidf = feedback(sen, obv_haki, actual)"
   ]
  },
  {
   "cell_type": "code",
   "execution_count": 63,
   "id": "bccc19e6-1f29-439d-a1ad-ea2dbb019b59",
   "metadata": {},
   "outputs": [
    {
     "name": "stdout",
     "output_type": "stream",
     "text": [
      "Logistic Regression Accuracy: 0.8537786670771125\n",
      "Classification Report:\n",
      "                      precision    recall  f1-score   support\n",
      "\n",
      "        credit_card       0.77      0.75      0.76      3247\n",
      "   credit_reporting       0.89      0.93      0.91     18095\n",
      "    debt_collection       0.78      0.69      0.73      4605\n",
      "mortgages_and_loans       0.83      0.81      0.82      3788\n",
      "     retail_banking       0.84      0.85      0.84      2750\n",
      "\n",
      "           accuracy                           0.85     32485\n",
      "          macro avg       0.82      0.80      0.81     32485\n",
      "       weighted avg       0.85      0.85      0.85     32485\n",
      "\n",
      "\n"
     ]
    },
    {
     "data": {
      "image/png": "[encoded data removed]",
      "text/plain": [
       "<Figure size 1200x600 with 1 Axes>"
      ]
     },
     "metadata": {},
     "output_type": "display_data"
    }
   ],
   "source": [
    "#showing the accuracy of the model\n",
    "print('Logistic Regression Accuracy:', accuracy_score(test, pred), end = '\\n')\n",
    "#showing the classification report of the model\n",
    "print('Classification Report:\\n', classification_report(test, pred), end = '\\n')\n",
    "#sometimes it was giving me the error list cannot proccessed so using this code removing the ambuigity\n",
    "try:\n",
    "    del list\n",
    "    print(end = '\\n')\n",
    "except:\n",
    "    print(end = '\\n')\n",
    "#getting the classifiction report in report\n",
    "report = classification_report(test, pred, output_dict=True)\n",
    "#converting this into class\n",
    "#cannot take accuracy because it does not got preccision\n",
    "classes = list(report.keys())[:-3]\n",
    "#creating all name for columns in class\n",
    "precision = [report[cls]['precision'] for cls in classes]\n",
    "recall = [report[cls]['recall'] for cls in classes]\n",
    "f1_score = [report[cls]['f1-score'] for cls in classes]\n",
    "support = [report[cls]['support'] for cls in classes]\n",
    "bar_width = 0.2\n",
    "x = np.arange(len(classes))\n",
    "#declaring the size of the plot\n",
    "fig, ax = plt.subplots(figsize=(12, 6))\n",
    "#declaring where the property should be shown\n",
    "ax.bar(x - bar_width, precision, width=bar_width, label='Precision', color='blue')\n",
    "ax.bar(x, recall, width=bar_width, label='Recall', color='red')\n",
    "ax.bar(x + bar_width, f1_score, width=bar_width, label='F1 Score', color='green')\n",
    "#not ploting support because of its high value else other will get neglected in plot\n",
    "#setting x and y labels and also the title\n",
    "ax.set_xlabel('Classes')\n",
    "ax.set_ylabel('Scores')\n",
    "ax.set_title('Classification Report Metrics')\n",
    "ax.set_xticks(x)\n",
    "ax.set_xticklabels(classes)\n",
    "ax.legend()\n",
    "plt.tight_layout()\n",
    "#finally showing the graph\n",
    "plt.show()"
   ]
  },
  {
   "cell_type": "code",
   "execution_count": null,
   "id": "7d064819-74f4-4058-9b1d-b255b497a411",
   "metadata": {},
   "outputs": [],
   "source": []
  }
 ],
 "metadata": {
  "kernelspec": {
   "display_name": "Python 3 (ipykernel)",
   "language": "python",
   "name": "python3"
  },
  "language_info": {
   "codemirror_mode": {
    "name": "ipython",
    "version": 3
   },
   "file_extension": ".py",
   "mimetype": "text/x-python",
   "name": "python",
   "nbconvert_exporter": "python",
   "pygments_lexer": "ipython3",
   "version": "3.12.4"
  }
 },
 "nbformat": 4,
 "nbformat_minor": 5
}
